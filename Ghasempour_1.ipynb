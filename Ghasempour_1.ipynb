{
 "cells": [
  {
   "cell_type": "markdown",
   "id": "f3cc6fe5",
   "metadata": {},
   "source": [
    "اسم داده های ارائه شده = Data "
   ]
  },
  {
   "cell_type": "code",
   "execution_count": 3,
   "id": "0b8d679c",
   "metadata": {},
   "outputs": [],
   "source": [
    "Data = read.table(\"project_1.dat\", header = TRUE)"
   ]
  },
  {
   "cell_type": "code",
   "execution_count": 4,
   "id": "098e0b65",
   "metadata": {},
   "outputs": [
    {
     "data": {
      "text/html": [
       "<table class=\"dataframe\">\n",
       "<caption>A data.frame: 45 × 3</caption>\n",
       "<thead>\n",
       "\t<tr><th scope=col>Area</th><th scope=col>Duration</th><th scope=col>Time</th></tr>\n",
       "\t<tr><th scope=col>&lt;int&gt;</th><th scope=col>&lt;int&gt;</th><th scope=col>&lt;int&gt;</th></tr>\n",
       "</thead>\n",
       "<tbody>\n",
       "\t<tr><td>1</td><td>1</td><td>25</td></tr>\n",
       "\t<tr><td>1</td><td>1</td><td>30</td></tr>\n",
       "\t<tr><td>1</td><td>1</td><td>28</td></tr>\n",
       "\t<tr><td>1</td><td>1</td><td>40</td></tr>\n",
       "\t<tr><td>1</td><td>1</td><td>20</td></tr>\n",
       "\t<tr><td>1</td><td>2</td><td>30</td></tr>\n",
       "\t<tr><td>1</td><td>2</td><td>25</td></tr>\n",
       "\t<tr><td>1</td><td>2</td><td>27</td></tr>\n",
       "\t<tr><td>1</td><td>2</td><td>35</td></tr>\n",
       "\t<tr><td>1</td><td>2</td><td>23</td></tr>\n",
       "\t<tr><td>1</td><td>3</td><td>28</td></tr>\n",
       "\t<tr><td>1</td><td>3</td><td>31</td></tr>\n",
       "\t<tr><td>1</td><td>3</td><td>26</td></tr>\n",
       "\t<tr><td>1</td><td>3</td><td>20</td></tr>\n",
       "\t<tr><td>1</td><td>3</td><td>35</td></tr>\n",
       "\t<tr><td>2</td><td>1</td><td>11</td></tr>\n",
       "\t<tr><td>2</td><td>1</td><td>18</td></tr>\n",
       "\t<tr><td>2</td><td>1</td><td>26</td></tr>\n",
       "\t<tr><td>2</td><td>1</td><td>15</td></tr>\n",
       "\t<tr><td>2</td><td>1</td><td>14</td></tr>\n",
       "\t<tr><td>2</td><td>2</td><td>31</td></tr>\n",
       "\t<tr><td>2</td><td>2</td><td>20</td></tr>\n",
       "\t<tr><td>2</td><td>2</td><td>22</td></tr>\n",
       "\t<tr><td>2</td><td>2</td><td>23</td></tr>\n",
       "\t<tr><td>2</td><td>2</td><td>19</td></tr>\n",
       "\t<tr><td>2</td><td>3</td><td>23</td></tr>\n",
       "\t<tr><td>2</td><td>3</td><td>28</td></tr>\n",
       "\t<tr><td>2</td><td>3</td><td>35</td></tr>\n",
       "\t<tr><td>2</td><td>3</td><td>27</td></tr>\n",
       "\t<tr><td>2</td><td>3</td><td>21</td></tr>\n",
       "\t<tr><td>3</td><td>1</td><td>23</td></tr>\n",
       "\t<tr><td>3</td><td>1</td><td>30</td></tr>\n",
       "\t<tr><td>3</td><td>1</td><td>18</td></tr>\n",
       "\t<tr><td>3</td><td>1</td><td>28</td></tr>\n",
       "\t<tr><td>3</td><td>1</td><td>23</td></tr>\n",
       "\t<tr><td>3</td><td>2</td><td>18</td></tr>\n",
       "\t<tr><td>3</td><td>2</td><td>24</td></tr>\n",
       "\t<tr><td>3</td><td>2</td><td> 9</td></tr>\n",
       "\t<tr><td>3</td><td>2</td><td>16</td></tr>\n",
       "\t<tr><td>3</td><td>2</td><td>13</td></tr>\n",
       "\t<tr><td>3</td><td>3</td><td>28</td></tr>\n",
       "\t<tr><td>3</td><td>3</td><td>21</td></tr>\n",
       "\t<tr><td>3</td><td>3</td><td>30</td></tr>\n",
       "\t<tr><td>3</td><td>3</td><td>30</td></tr>\n",
       "\t<tr><td>3</td><td>3</td><td>23</td></tr>\n",
       "</tbody>\n",
       "</table>\n"
      ],
      "text/latex": [
       "A data.frame: 45 × 3\n",
       "\\begin{tabular}{lll}\n",
       " Area & Duration & Time\\\\\n",
       " <int> & <int> & <int>\\\\\n",
       "\\hline\n",
       "\t 1 & 1 & 25\\\\\n",
       "\t 1 & 1 & 30\\\\\n",
       "\t 1 & 1 & 28\\\\\n",
       "\t 1 & 1 & 40\\\\\n",
       "\t 1 & 1 & 20\\\\\n",
       "\t 1 & 2 & 30\\\\\n",
       "\t 1 & 2 & 25\\\\\n",
       "\t 1 & 2 & 27\\\\\n",
       "\t 1 & 2 & 35\\\\\n",
       "\t 1 & 2 & 23\\\\\n",
       "\t 1 & 3 & 28\\\\\n",
       "\t 1 & 3 & 31\\\\\n",
       "\t 1 & 3 & 26\\\\\n",
       "\t 1 & 3 & 20\\\\\n",
       "\t 1 & 3 & 35\\\\\n",
       "\t 2 & 1 & 11\\\\\n",
       "\t 2 & 1 & 18\\\\\n",
       "\t 2 & 1 & 26\\\\\n",
       "\t 2 & 1 & 15\\\\\n",
       "\t 2 & 1 & 14\\\\\n",
       "\t 2 & 2 & 31\\\\\n",
       "\t 2 & 2 & 20\\\\\n",
       "\t 2 & 2 & 22\\\\\n",
       "\t 2 & 2 & 23\\\\\n",
       "\t 2 & 2 & 19\\\\\n",
       "\t 2 & 3 & 23\\\\\n",
       "\t 2 & 3 & 28\\\\\n",
       "\t 2 & 3 & 35\\\\\n",
       "\t 2 & 3 & 27\\\\\n",
       "\t 2 & 3 & 21\\\\\n",
       "\t 3 & 1 & 23\\\\\n",
       "\t 3 & 1 & 30\\\\\n",
       "\t 3 & 1 & 18\\\\\n",
       "\t 3 & 1 & 28\\\\\n",
       "\t 3 & 1 & 23\\\\\n",
       "\t 3 & 2 & 18\\\\\n",
       "\t 3 & 2 & 24\\\\\n",
       "\t 3 & 2 &  9\\\\\n",
       "\t 3 & 2 & 16\\\\\n",
       "\t 3 & 2 & 13\\\\\n",
       "\t 3 & 3 & 28\\\\\n",
       "\t 3 & 3 & 21\\\\\n",
       "\t 3 & 3 & 30\\\\\n",
       "\t 3 & 3 & 30\\\\\n",
       "\t 3 & 3 & 23\\\\\n",
       "\\end{tabular}\n"
      ],
      "text/markdown": [
       "\n",
       "A data.frame: 45 × 3\n",
       "\n",
       "| Area &lt;int&gt; | Duration &lt;int&gt; | Time &lt;int&gt; |\n",
       "|---|---|---|\n",
       "| 1 | 1 | 25 |\n",
       "| 1 | 1 | 30 |\n",
       "| 1 | 1 | 28 |\n",
       "| 1 | 1 | 40 |\n",
       "| 1 | 1 | 20 |\n",
       "| 1 | 2 | 30 |\n",
       "| 1 | 2 | 25 |\n",
       "| 1 | 2 | 27 |\n",
       "| 1 | 2 | 35 |\n",
       "| 1 | 2 | 23 |\n",
       "| 1 | 3 | 28 |\n",
       "| 1 | 3 | 31 |\n",
       "| 1 | 3 | 26 |\n",
       "| 1 | 3 | 20 |\n",
       "| 1 | 3 | 35 |\n",
       "| 2 | 1 | 11 |\n",
       "| 2 | 1 | 18 |\n",
       "| 2 | 1 | 26 |\n",
       "| 2 | 1 | 15 |\n",
       "| 2 | 1 | 14 |\n",
       "| 2 | 2 | 31 |\n",
       "| 2 | 2 | 20 |\n",
       "| 2 | 2 | 22 |\n",
       "| 2 | 2 | 23 |\n",
       "| 2 | 2 | 19 |\n",
       "| 2 | 3 | 23 |\n",
       "| 2 | 3 | 28 |\n",
       "| 2 | 3 | 35 |\n",
       "| 2 | 3 | 27 |\n",
       "| 2 | 3 | 21 |\n",
       "| 3 | 1 | 23 |\n",
       "| 3 | 1 | 30 |\n",
       "| 3 | 1 | 18 |\n",
       "| 3 | 1 | 28 |\n",
       "| 3 | 1 | 23 |\n",
       "| 3 | 2 | 18 |\n",
       "| 3 | 2 | 24 |\n",
       "| 3 | 2 |  9 |\n",
       "| 3 | 2 | 16 |\n",
       "| 3 | 2 | 13 |\n",
       "| 3 | 3 | 28 |\n",
       "| 3 | 3 | 21 |\n",
       "| 3 | 3 | 30 |\n",
       "| 3 | 3 | 30 |\n",
       "| 3 | 3 | 23 |\n",
       "\n"
      ],
      "text/plain": [
       "   Area Duration Time\n",
       "1  1    1        25  \n",
       "2  1    1        30  \n",
       "3  1    1        28  \n",
       "4  1    1        40  \n",
       "5  1    1        20  \n",
       "6  1    2        30  \n",
       "7  1    2        25  \n",
       "8  1    2        27  \n",
       "9  1    2        35  \n",
       "10 1    2        23  \n",
       "11 1    3        28  \n",
       "12 1    3        31  \n",
       "13 1    3        26  \n",
       "14 1    3        20  \n",
       "15 1    3        35  \n",
       "16 2    1        11  \n",
       "17 2    1        18  \n",
       "18 2    1        26  \n",
       "19 2    1        15  \n",
       "20 2    1        14  \n",
       "21 2    2        31  \n",
       "22 2    2        20  \n",
       "23 2    2        22  \n",
       "24 2    2        23  \n",
       "25 2    2        19  \n",
       "26 2    3        23  \n",
       "27 2    3        28  \n",
       "28 2    3        35  \n",
       "29 2    3        27  \n",
       "30 2    3        21  \n",
       "31 3    1        23  \n",
       "32 3    1        30  \n",
       "33 3    1        18  \n",
       "34 3    1        28  \n",
       "35 3    1        23  \n",
       "36 3    2        18  \n",
       "37 3    2        24  \n",
       "38 3    2         9  \n",
       "39 3    2        16  \n",
       "40 3    2        13  \n",
       "41 3    3        28  \n",
       "42 3    3        21  \n",
       "43 3    3        30  \n",
       "44 3    3        30  \n",
       "45 3    3        23  "
      ]
     },
     "metadata": {},
     "output_type": "display_data"
    }
   ],
   "source": [
    "Data"
   ]
  },
  {
   "cell_type": "markdown",
   "id": "8eab06b7",
   "metadata": {},
   "source": [
    "داده های جدول را مرتب می کنیم(ابتدا اسم ستون های یک و دو بود بعد با کدهای پایین به دیوریشن و اریا تبدیل کردم)"
   ]
  },
  {
   "cell_type": "code",
   "execution_count": 8,
   "id": "36725802",
   "metadata": {},
   "outputs": [
    {
     "name": "stderr",
     "output_type": "stream",
     "text": [
      "\n",
      "Attaching package: 'rstatix'\n",
      "\n",
      "\n",
      "The following object is masked from 'package:stats':\n",
      "\n",
      "    filter\n",
      "\n",
      "\n"
     ]
    }
   ],
   "source": [
    "library(rstatix)"
   ]
  },
  {
   "cell_type": "code",
   "execution_count": 13,
   "id": "b858280d",
   "metadata": {},
   "outputs": [],
   "source": [
    "Data = Data %>% mutate (Area = ifelse (Area == \"1\", \"Neutral\", ifelse(Area == \"2\", \"AreaA\", \"AreaB\")))"
   ]
  },
  {
   "cell_type": "code",
   "execution_count": 10,
   "id": "4c021081",
   "metadata": {},
   "outputs": [
    {
     "data": {
      "text/html": [
       "<table class=\"dataframe\">\n",
       "<caption>A data.frame: 45 × 3</caption>\n",
       "<thead>\n",
       "\t<tr><th scope=col>Area</th><th scope=col>Duration</th><th scope=col>Time</th></tr>\n",
       "\t<tr><th scope=col>&lt;chr&gt;</th><th scope=col>&lt;int&gt;</th><th scope=col>&lt;int&gt;</th></tr>\n",
       "</thead>\n",
       "<tbody>\n",
       "\t<tr><td>Neutral</td><td>1</td><td>25</td></tr>\n",
       "\t<tr><td>Neutral</td><td>1</td><td>30</td></tr>\n",
       "\t<tr><td>Neutral</td><td>1</td><td>28</td></tr>\n",
       "\t<tr><td>Neutral</td><td>1</td><td>40</td></tr>\n",
       "\t<tr><td>Neutral</td><td>1</td><td>20</td></tr>\n",
       "\t<tr><td>Neutral</td><td>2</td><td>30</td></tr>\n",
       "\t<tr><td>Neutral</td><td>2</td><td>25</td></tr>\n",
       "\t<tr><td>Neutral</td><td>2</td><td>27</td></tr>\n",
       "\t<tr><td>Neutral</td><td>2</td><td>35</td></tr>\n",
       "\t<tr><td>Neutral</td><td>2</td><td>23</td></tr>\n",
       "\t<tr><td>Neutral</td><td>3</td><td>28</td></tr>\n",
       "\t<tr><td>Neutral</td><td>3</td><td>31</td></tr>\n",
       "\t<tr><td>Neutral</td><td>3</td><td>26</td></tr>\n",
       "\t<tr><td>Neutral</td><td>3</td><td>20</td></tr>\n",
       "\t<tr><td>Neutral</td><td>3</td><td>35</td></tr>\n",
       "\t<tr><td>AreaA  </td><td>1</td><td>11</td></tr>\n",
       "\t<tr><td>AreaA  </td><td>1</td><td>18</td></tr>\n",
       "\t<tr><td>AreaA  </td><td>1</td><td>26</td></tr>\n",
       "\t<tr><td>AreaA  </td><td>1</td><td>15</td></tr>\n",
       "\t<tr><td>AreaA  </td><td>1</td><td>14</td></tr>\n",
       "\t<tr><td>AreaA  </td><td>2</td><td>31</td></tr>\n",
       "\t<tr><td>AreaA  </td><td>2</td><td>20</td></tr>\n",
       "\t<tr><td>AreaA  </td><td>2</td><td>22</td></tr>\n",
       "\t<tr><td>AreaA  </td><td>2</td><td>23</td></tr>\n",
       "\t<tr><td>AreaA  </td><td>2</td><td>19</td></tr>\n",
       "\t<tr><td>AreaA  </td><td>3</td><td>23</td></tr>\n",
       "\t<tr><td>AreaA  </td><td>3</td><td>28</td></tr>\n",
       "\t<tr><td>AreaA  </td><td>3</td><td>35</td></tr>\n",
       "\t<tr><td>AreaA  </td><td>3</td><td>27</td></tr>\n",
       "\t<tr><td>AreaA  </td><td>3</td><td>21</td></tr>\n",
       "\t<tr><td>AreaB  </td><td>1</td><td>23</td></tr>\n",
       "\t<tr><td>AreaB  </td><td>1</td><td>30</td></tr>\n",
       "\t<tr><td>AreaB  </td><td>1</td><td>18</td></tr>\n",
       "\t<tr><td>AreaB  </td><td>1</td><td>28</td></tr>\n",
       "\t<tr><td>AreaB  </td><td>1</td><td>23</td></tr>\n",
       "\t<tr><td>AreaB  </td><td>2</td><td>18</td></tr>\n",
       "\t<tr><td>AreaB  </td><td>2</td><td>24</td></tr>\n",
       "\t<tr><td>AreaB  </td><td>2</td><td> 9</td></tr>\n",
       "\t<tr><td>AreaB  </td><td>2</td><td>16</td></tr>\n",
       "\t<tr><td>AreaB  </td><td>2</td><td>13</td></tr>\n",
       "\t<tr><td>AreaB  </td><td>3</td><td>28</td></tr>\n",
       "\t<tr><td>AreaB  </td><td>3</td><td>21</td></tr>\n",
       "\t<tr><td>AreaB  </td><td>3</td><td>30</td></tr>\n",
       "\t<tr><td>AreaB  </td><td>3</td><td>30</td></tr>\n",
       "\t<tr><td>AreaB  </td><td>3</td><td>23</td></tr>\n",
       "</tbody>\n",
       "</table>\n"
      ],
      "text/latex": [
       "A data.frame: 45 × 3\n",
       "\\begin{tabular}{lll}\n",
       " Area & Duration & Time\\\\\n",
       " <chr> & <int> & <int>\\\\\n",
       "\\hline\n",
       "\t Neutral & 1 & 25\\\\\n",
       "\t Neutral & 1 & 30\\\\\n",
       "\t Neutral & 1 & 28\\\\\n",
       "\t Neutral & 1 & 40\\\\\n",
       "\t Neutral & 1 & 20\\\\\n",
       "\t Neutral & 2 & 30\\\\\n",
       "\t Neutral & 2 & 25\\\\\n",
       "\t Neutral & 2 & 27\\\\\n",
       "\t Neutral & 2 & 35\\\\\n",
       "\t Neutral & 2 & 23\\\\\n",
       "\t Neutral & 3 & 28\\\\\n",
       "\t Neutral & 3 & 31\\\\\n",
       "\t Neutral & 3 & 26\\\\\n",
       "\t Neutral & 3 & 20\\\\\n",
       "\t Neutral & 3 & 35\\\\\n",
       "\t AreaA   & 1 & 11\\\\\n",
       "\t AreaA   & 1 & 18\\\\\n",
       "\t AreaA   & 1 & 26\\\\\n",
       "\t AreaA   & 1 & 15\\\\\n",
       "\t AreaA   & 1 & 14\\\\\n",
       "\t AreaA   & 2 & 31\\\\\n",
       "\t AreaA   & 2 & 20\\\\\n",
       "\t AreaA   & 2 & 22\\\\\n",
       "\t AreaA   & 2 & 23\\\\\n",
       "\t AreaA   & 2 & 19\\\\\n",
       "\t AreaA   & 3 & 23\\\\\n",
       "\t AreaA   & 3 & 28\\\\\n",
       "\t AreaA   & 3 & 35\\\\\n",
       "\t AreaA   & 3 & 27\\\\\n",
       "\t AreaA   & 3 & 21\\\\\n",
       "\t AreaB   & 1 & 23\\\\\n",
       "\t AreaB   & 1 & 30\\\\\n",
       "\t AreaB   & 1 & 18\\\\\n",
       "\t AreaB   & 1 & 28\\\\\n",
       "\t AreaB   & 1 & 23\\\\\n",
       "\t AreaB   & 2 & 18\\\\\n",
       "\t AreaB   & 2 & 24\\\\\n",
       "\t AreaB   & 2 &  9\\\\\n",
       "\t AreaB   & 2 & 16\\\\\n",
       "\t AreaB   & 2 & 13\\\\\n",
       "\t AreaB   & 3 & 28\\\\\n",
       "\t AreaB   & 3 & 21\\\\\n",
       "\t AreaB   & 3 & 30\\\\\n",
       "\t AreaB   & 3 & 30\\\\\n",
       "\t AreaB   & 3 & 23\\\\\n",
       "\\end{tabular}\n"
      ],
      "text/markdown": [
       "\n",
       "A data.frame: 45 × 3\n",
       "\n",
       "| Area &lt;chr&gt; | Duration &lt;int&gt; | Time &lt;int&gt; |\n",
       "|---|---|---|\n",
       "| Neutral | 1 | 25 |\n",
       "| Neutral | 1 | 30 |\n",
       "| Neutral | 1 | 28 |\n",
       "| Neutral | 1 | 40 |\n",
       "| Neutral | 1 | 20 |\n",
       "| Neutral | 2 | 30 |\n",
       "| Neutral | 2 | 25 |\n",
       "| Neutral | 2 | 27 |\n",
       "| Neutral | 2 | 35 |\n",
       "| Neutral | 2 | 23 |\n",
       "| Neutral | 3 | 28 |\n",
       "| Neutral | 3 | 31 |\n",
       "| Neutral | 3 | 26 |\n",
       "| Neutral | 3 | 20 |\n",
       "| Neutral | 3 | 35 |\n",
       "| AreaA   | 1 | 11 |\n",
       "| AreaA   | 1 | 18 |\n",
       "| AreaA   | 1 | 26 |\n",
       "| AreaA   | 1 | 15 |\n",
       "| AreaA   | 1 | 14 |\n",
       "| AreaA   | 2 | 31 |\n",
       "| AreaA   | 2 | 20 |\n",
       "| AreaA   | 2 | 22 |\n",
       "| AreaA   | 2 | 23 |\n",
       "| AreaA   | 2 | 19 |\n",
       "| AreaA   | 3 | 23 |\n",
       "| AreaA   | 3 | 28 |\n",
       "| AreaA   | 3 | 35 |\n",
       "| AreaA   | 3 | 27 |\n",
       "| AreaA   | 3 | 21 |\n",
       "| AreaB   | 1 | 23 |\n",
       "| AreaB   | 1 | 30 |\n",
       "| AreaB   | 1 | 18 |\n",
       "| AreaB   | 1 | 28 |\n",
       "| AreaB   | 1 | 23 |\n",
       "| AreaB   | 2 | 18 |\n",
       "| AreaB   | 2 | 24 |\n",
       "| AreaB   | 2 |  9 |\n",
       "| AreaB   | 2 | 16 |\n",
       "| AreaB   | 2 | 13 |\n",
       "| AreaB   | 3 | 28 |\n",
       "| AreaB   | 3 | 21 |\n",
       "| AreaB   | 3 | 30 |\n",
       "| AreaB   | 3 | 30 |\n",
       "| AreaB   | 3 | 23 |\n",
       "\n"
      ],
      "text/plain": [
       "   Area    Duration Time\n",
       "1  Neutral 1        25  \n",
       "2  Neutral 1        30  \n",
       "3  Neutral 1        28  \n",
       "4  Neutral 1        40  \n",
       "5  Neutral 1        20  \n",
       "6  Neutral 2        30  \n",
       "7  Neutral 2        25  \n",
       "8  Neutral 2        27  \n",
       "9  Neutral 2        35  \n",
       "10 Neutral 2        23  \n",
       "11 Neutral 3        28  \n",
       "12 Neutral 3        31  \n",
       "13 Neutral 3        26  \n",
       "14 Neutral 3        20  \n",
       "15 Neutral 3        35  \n",
       "16 AreaA   1        11  \n",
       "17 AreaA   1        18  \n",
       "18 AreaA   1        26  \n",
       "19 AreaA   1        15  \n",
       "20 AreaA   1        14  \n",
       "21 AreaA   2        31  \n",
       "22 AreaA   2        20  \n",
       "23 AreaA   2        22  \n",
       "24 AreaA   2        23  \n",
       "25 AreaA   2        19  \n",
       "26 AreaA   3        23  \n",
       "27 AreaA   3        28  \n",
       "28 AreaA   3        35  \n",
       "29 AreaA   3        27  \n",
       "30 AreaA   3        21  \n",
       "31 AreaB   1        23  \n",
       "32 AreaB   1        30  \n",
       "33 AreaB   1        18  \n",
       "34 AreaB   1        28  \n",
       "35 AreaB   1        23  \n",
       "36 AreaB   2        18  \n",
       "37 AreaB   2        24  \n",
       "38 AreaB   2         9  \n",
       "39 AreaB   2        16  \n",
       "40 AreaB   2        13  \n",
       "41 AreaB   3        28  \n",
       "42 AreaB   3        21  \n",
       "43 AreaB   3        30  \n",
       "44 AreaB   3        30  \n",
       "45 AreaB   3        23  "
      ]
     },
     "metadata": {},
     "output_type": "display_data"
    }
   ],
   "source": [
    "Data"
   ]
  },
  {
   "cell_type": "code",
   "execution_count": 12,
   "id": "43b47695",
   "metadata": {},
   "outputs": [],
   "source": [
    "Data = Data %>% mutate (Duration = ifelse (Duration == \"1\", \"50\", ifelse(Duration == \"2\", \"100\", \"150\")))"
   ]
  },
  {
   "cell_type": "code",
   "execution_count": 12,
   "id": "a217d49e",
   "metadata": {},
   "outputs": [
    {
     "data": {
      "text/html": [
       "<table class=\"dataframe\">\n",
       "<caption>A data.frame: 45 × 3</caption>\n",
       "<thead>\n",
       "\t<tr><th scope=col>Area</th><th scope=col>Duration</th><th scope=col>Time</th></tr>\n",
       "\t<tr><th scope=col>&lt;chr&gt;</th><th scope=col>&lt;chr&gt;</th><th scope=col>&lt;int&gt;</th></tr>\n",
       "</thead>\n",
       "<tbody>\n",
       "\t<tr><td>Neutral</td><td>50 </td><td>25</td></tr>\n",
       "\t<tr><td>Neutral</td><td>50 </td><td>30</td></tr>\n",
       "\t<tr><td>Neutral</td><td>50 </td><td>28</td></tr>\n",
       "\t<tr><td>Neutral</td><td>50 </td><td>40</td></tr>\n",
       "\t<tr><td>Neutral</td><td>50 </td><td>20</td></tr>\n",
       "\t<tr><td>Neutral</td><td>100</td><td>30</td></tr>\n",
       "\t<tr><td>Neutral</td><td>100</td><td>25</td></tr>\n",
       "\t<tr><td>Neutral</td><td>100</td><td>27</td></tr>\n",
       "\t<tr><td>Neutral</td><td>100</td><td>35</td></tr>\n",
       "\t<tr><td>Neutral</td><td>100</td><td>23</td></tr>\n",
       "\t<tr><td>Neutral</td><td>150</td><td>28</td></tr>\n",
       "\t<tr><td>Neutral</td><td>150</td><td>31</td></tr>\n",
       "\t<tr><td>Neutral</td><td>150</td><td>26</td></tr>\n",
       "\t<tr><td>Neutral</td><td>150</td><td>20</td></tr>\n",
       "\t<tr><td>Neutral</td><td>150</td><td>35</td></tr>\n",
       "\t<tr><td>AreaA  </td><td>50 </td><td>11</td></tr>\n",
       "\t<tr><td>AreaA  </td><td>50 </td><td>18</td></tr>\n",
       "\t<tr><td>AreaA  </td><td>50 </td><td>26</td></tr>\n",
       "\t<tr><td>AreaA  </td><td>50 </td><td>15</td></tr>\n",
       "\t<tr><td>AreaA  </td><td>50 </td><td>14</td></tr>\n",
       "\t<tr><td>AreaA  </td><td>100</td><td>31</td></tr>\n",
       "\t<tr><td>AreaA  </td><td>100</td><td>20</td></tr>\n",
       "\t<tr><td>AreaA  </td><td>100</td><td>22</td></tr>\n",
       "\t<tr><td>AreaA  </td><td>100</td><td>23</td></tr>\n",
       "\t<tr><td>AreaA  </td><td>100</td><td>19</td></tr>\n",
       "\t<tr><td>AreaA  </td><td>150</td><td>23</td></tr>\n",
       "\t<tr><td>AreaA  </td><td>150</td><td>28</td></tr>\n",
       "\t<tr><td>AreaA  </td><td>150</td><td>35</td></tr>\n",
       "\t<tr><td>AreaA  </td><td>150</td><td>27</td></tr>\n",
       "\t<tr><td>AreaA  </td><td>150</td><td>21</td></tr>\n",
       "\t<tr><td>AreaB  </td><td>50 </td><td>23</td></tr>\n",
       "\t<tr><td>AreaB  </td><td>50 </td><td>30</td></tr>\n",
       "\t<tr><td>AreaB  </td><td>50 </td><td>18</td></tr>\n",
       "\t<tr><td>AreaB  </td><td>50 </td><td>28</td></tr>\n",
       "\t<tr><td>AreaB  </td><td>50 </td><td>23</td></tr>\n",
       "\t<tr><td>AreaB  </td><td>100</td><td>18</td></tr>\n",
       "\t<tr><td>AreaB  </td><td>100</td><td>24</td></tr>\n",
       "\t<tr><td>AreaB  </td><td>100</td><td> 9</td></tr>\n",
       "\t<tr><td>AreaB  </td><td>100</td><td>16</td></tr>\n",
       "\t<tr><td>AreaB  </td><td>100</td><td>13</td></tr>\n",
       "\t<tr><td>AreaB  </td><td>150</td><td>28</td></tr>\n",
       "\t<tr><td>AreaB  </td><td>150</td><td>21</td></tr>\n",
       "\t<tr><td>AreaB  </td><td>150</td><td>30</td></tr>\n",
       "\t<tr><td>AreaB  </td><td>150</td><td>30</td></tr>\n",
       "\t<tr><td>AreaB  </td><td>150</td><td>23</td></tr>\n",
       "</tbody>\n",
       "</table>\n"
      ],
      "text/latex": [
       "A data.frame: 45 × 3\n",
       "\\begin{tabular}{lll}\n",
       " Area & Duration & Time\\\\\n",
       " <chr> & <chr> & <int>\\\\\n",
       "\\hline\n",
       "\t Neutral & 50  & 25\\\\\n",
       "\t Neutral & 50  & 30\\\\\n",
       "\t Neutral & 50  & 28\\\\\n",
       "\t Neutral & 50  & 40\\\\\n",
       "\t Neutral & 50  & 20\\\\\n",
       "\t Neutral & 100 & 30\\\\\n",
       "\t Neutral & 100 & 25\\\\\n",
       "\t Neutral & 100 & 27\\\\\n",
       "\t Neutral & 100 & 35\\\\\n",
       "\t Neutral & 100 & 23\\\\\n",
       "\t Neutral & 150 & 28\\\\\n",
       "\t Neutral & 150 & 31\\\\\n",
       "\t Neutral & 150 & 26\\\\\n",
       "\t Neutral & 150 & 20\\\\\n",
       "\t Neutral & 150 & 35\\\\\n",
       "\t AreaA   & 50  & 11\\\\\n",
       "\t AreaA   & 50  & 18\\\\\n",
       "\t AreaA   & 50  & 26\\\\\n",
       "\t AreaA   & 50  & 15\\\\\n",
       "\t AreaA   & 50  & 14\\\\\n",
       "\t AreaA   & 100 & 31\\\\\n",
       "\t AreaA   & 100 & 20\\\\\n",
       "\t AreaA   & 100 & 22\\\\\n",
       "\t AreaA   & 100 & 23\\\\\n",
       "\t AreaA   & 100 & 19\\\\\n",
       "\t AreaA   & 150 & 23\\\\\n",
       "\t AreaA   & 150 & 28\\\\\n",
       "\t AreaA   & 150 & 35\\\\\n",
       "\t AreaA   & 150 & 27\\\\\n",
       "\t AreaA   & 150 & 21\\\\\n",
       "\t AreaB   & 50  & 23\\\\\n",
       "\t AreaB   & 50  & 30\\\\\n",
       "\t AreaB   & 50  & 18\\\\\n",
       "\t AreaB   & 50  & 28\\\\\n",
       "\t AreaB   & 50  & 23\\\\\n",
       "\t AreaB   & 100 & 18\\\\\n",
       "\t AreaB   & 100 & 24\\\\\n",
       "\t AreaB   & 100 &  9\\\\\n",
       "\t AreaB   & 100 & 16\\\\\n",
       "\t AreaB   & 100 & 13\\\\\n",
       "\t AreaB   & 150 & 28\\\\\n",
       "\t AreaB   & 150 & 21\\\\\n",
       "\t AreaB   & 150 & 30\\\\\n",
       "\t AreaB   & 150 & 30\\\\\n",
       "\t AreaB   & 150 & 23\\\\\n",
       "\\end{tabular}\n"
      ],
      "text/markdown": [
       "\n",
       "A data.frame: 45 × 3\n",
       "\n",
       "| Area &lt;chr&gt; | Duration &lt;chr&gt; | Time &lt;int&gt; |\n",
       "|---|---|---|\n",
       "| Neutral | 50  | 25 |\n",
       "| Neutral | 50  | 30 |\n",
       "| Neutral | 50  | 28 |\n",
       "| Neutral | 50  | 40 |\n",
       "| Neutral | 50  | 20 |\n",
       "| Neutral | 100 | 30 |\n",
       "| Neutral | 100 | 25 |\n",
       "| Neutral | 100 | 27 |\n",
       "| Neutral | 100 | 35 |\n",
       "| Neutral | 100 | 23 |\n",
       "| Neutral | 150 | 28 |\n",
       "| Neutral | 150 | 31 |\n",
       "| Neutral | 150 | 26 |\n",
       "| Neutral | 150 | 20 |\n",
       "| Neutral | 150 | 35 |\n",
       "| AreaA   | 50  | 11 |\n",
       "| AreaA   | 50  | 18 |\n",
       "| AreaA   | 50  | 26 |\n",
       "| AreaA   | 50  | 15 |\n",
       "| AreaA   | 50  | 14 |\n",
       "| AreaA   | 100 | 31 |\n",
       "| AreaA   | 100 | 20 |\n",
       "| AreaA   | 100 | 22 |\n",
       "| AreaA   | 100 | 23 |\n",
       "| AreaA   | 100 | 19 |\n",
       "| AreaA   | 150 | 23 |\n",
       "| AreaA   | 150 | 28 |\n",
       "| AreaA   | 150 | 35 |\n",
       "| AreaA   | 150 | 27 |\n",
       "| AreaA   | 150 | 21 |\n",
       "| AreaB   | 50  | 23 |\n",
       "| AreaB   | 50  | 30 |\n",
       "| AreaB   | 50  | 18 |\n",
       "| AreaB   | 50  | 28 |\n",
       "| AreaB   | 50  | 23 |\n",
       "| AreaB   | 100 | 18 |\n",
       "| AreaB   | 100 | 24 |\n",
       "| AreaB   | 100 |  9 |\n",
       "| AreaB   | 100 | 16 |\n",
       "| AreaB   | 100 | 13 |\n",
       "| AreaB   | 150 | 28 |\n",
       "| AreaB   | 150 | 21 |\n",
       "| AreaB   | 150 | 30 |\n",
       "| AreaB   | 150 | 30 |\n",
       "| AreaB   | 150 | 23 |\n",
       "\n"
      ],
      "text/plain": [
       "   Area    Duration Time\n",
       "1  Neutral 50       25  \n",
       "2  Neutral 50       30  \n",
       "3  Neutral 50       28  \n",
       "4  Neutral 50       40  \n",
       "5  Neutral 50       20  \n",
       "6  Neutral 100      30  \n",
       "7  Neutral 100      25  \n",
       "8  Neutral 100      27  \n",
       "9  Neutral 100      35  \n",
       "10 Neutral 100      23  \n",
       "11 Neutral 150      28  \n",
       "12 Neutral 150      31  \n",
       "13 Neutral 150      26  \n",
       "14 Neutral 150      20  \n",
       "15 Neutral 150      35  \n",
       "16 AreaA   50       11  \n",
       "17 AreaA   50       18  \n",
       "18 AreaA   50       26  \n",
       "19 AreaA   50       15  \n",
       "20 AreaA   50       14  \n",
       "21 AreaA   100      31  \n",
       "22 AreaA   100      20  \n",
       "23 AreaA   100      22  \n",
       "24 AreaA   100      23  \n",
       "25 AreaA   100      19  \n",
       "26 AreaA   150      23  \n",
       "27 AreaA   150      28  \n",
       "28 AreaA   150      35  \n",
       "29 AreaA   150      27  \n",
       "30 AreaA   150      21  \n",
       "31 AreaB   50       23  \n",
       "32 AreaB   50       30  \n",
       "33 AreaB   50       18  \n",
       "34 AreaB   50       28  \n",
       "35 AreaB   50       23  \n",
       "36 AreaB   100      18  \n",
       "37 AreaB   100      24  \n",
       "38 AreaB   100       9  \n",
       "39 AreaB   100      16  \n",
       "40 AreaB   100      13  \n",
       "41 AreaB   150      28  \n",
       "42 AreaB   150      21  \n",
       "43 AreaB   150      30  \n",
       "44 AreaB   150      30  \n",
       "45 AreaB   150      23  "
      ]
     },
     "metadata": {},
     "output_type": "display_data"
    }
   ],
   "source": [
    "Data"
   ]
  },
  {
   "cell_type": "markdown",
   "id": "f2da3cfc",
   "metadata": {},
   "source": [
    "# سوال یک"
   ]
  },
  {
   "cell_type": "markdown",
   "id": "8a7865de",
   "metadata": {},
   "source": [
    "پلات گروه بندی نشده"
   ]
  },
  {
   "cell_type": "code",
   "execution_count": 13,
   "id": "7adce0c7",
   "metadata": {},
   "outputs": [
    {
     "data": {
      "image/png": "[encoded data removed]",
      "text/plain": [
       "plot without title"
      ]
     },
     "metadata": {
      "image/png": {
       "height": 420,
       "width": 420
      }
     },
     "output_type": "display_data"
    }
   ],
   "source": [
    "plot(Data$Time)"
   ]
  },
  {
   "cell_type": "markdown",
   "id": "303386bb",
   "metadata": {},
   "source": [
    "پلات گروه بندی شده(لجند برای تمایز رنگی است)"
   ]
  },
  {
   "cell_type": "code",
   "execution_count": 18,
   "id": "931d1805",
   "metadata": {},
   "outputs": [
    {
     "data": {
      "image/png": "[encoded data removed]",
      "text/plain": [
       "plot without title"
      ]
     },
     "metadata": {
      "image/png": {
       "height": 420,
       "width": 420
      }
     },
     "output_type": "display_data"
    }
   ],
   "source": [
    "plot(Data$Duration, Data$Time, pch = 19, col = factor(Data$Area))\n",
    "legend(\"topleft\", legend = levels(factor(Data$Area)), pch = 19, col = factor(levels(factor(Data$Duration))))"
   ]
  },
  {
   "cell_type": "markdown",
   "id": "8b4ee6cc",
   "metadata": {},
   "source": [
    "# سوال دوم"
   ]
  },
  {
   "cell_type": "markdown",
   "id": "dee1dc3e",
   "metadata": {},
   "source": [
    "اول هیستوگرام را کشیدم"
   ]
  },
  {
   "cell_type": "code",
   "execution_count": 22,
   "id": "3e11e3ce",
   "metadata": {},
   "outputs": [
    {
     "data": {
      "image/png": "[encoded data removed]",
      "text/plain": [
       "Plot with title \"Histogram of Data$Time\""
      ]
     },
     "metadata": {
      "image/png": {
       "height": 420,
       "width": 420
      }
     },
     "output_type": "display_data"
    }
   ],
   "source": [
    "hist(Data$Time, breaks = 30)"
   ]
  },
  {
   "cell_type": "markdown",
   "id": "4a5e0639",
   "metadata": {},
   "source": [
    "از فاصله ی بین 15 تا 30 بیشترین احتمال وجود دارد که داده ی ما در آنجا قرار داشته باشد(با توجه به هیستوگرام پایین)."
   ]
  },
  {
   "cell_type": "code",
   "execution_count": 28,
   "id": "fdf11c24",
   "metadata": {},
   "outputs": [
    {
     "data": {
      "image/png": "[encoded data removed]",
      "text/plain": [
       "Plot with title \"Histogram of Data$Time\""
      ]
     },
     "metadata": {
      "image/png": {
       "height": 420,
       "width": 420
      }
     },
     "output_type": "display_data"
    }
   ],
   "source": [
    "hist(Data$Time, breaks = 30, probability = TRUE)\n",
    "lines(density(Data$Time), col = \"green\")"
   ]
  },
  {
   "cell_type": "markdown",
   "id": "6090dcea",
   "metadata": {},
   "source": [
    "بیشترین احتمال قرار گرفتن داده بین 15 تا 30 است."
   ]
  },
  {
   "cell_type": "markdown",
   "id": "dd652202",
   "metadata": {},
   "source": [
    "# سوال سوم"
   ]
  },
  {
   "cell_type": "code",
   "execution_count": 15,
   "id": "b250a133",
   "metadata": {},
   "outputs": [
    {
     "name": "stderr",
     "output_type": "stream",
     "text": [
      "Loading required package: ggplot2\n",
      "\n"
     ]
    }
   ],
   "source": [
    "library(ggpubr)"
   ]
  },
  {
   "cell_type": "code",
   "execution_count": 32,
   "id": "cd865d7e",
   "metadata": {},
   "outputs": [
    {
     "data": {
      "image/png": "[encoded data removed]",
      "text/plain": [
       "plot without title"
      ]
     },
     "metadata": {
      "image/png": {
       "height": 420,
       "width": 420
      }
     },
     "output_type": "display_data"
    }
   ],
   "source": [
    "ggboxplot(Data, x= \"Area\", y= \"Time\", add = \"point\")"
   ]
  },
  {
   "cell_type": "markdown",
   "id": "7d59fd6b",
   "metadata": {},
   "source": [
    "با توجه به باکس پلات بالا میبینیم که ناحیه ای و بی سطحشان از باکس نوترال(خنثی) ما پایینتره.یعنی تحریک این دو ناحیه بر روی روند حافظه ممکنه تاثییر داشته باشد(چون ریکشن تایم کمتری نسبت به ناحیه نوترال داشتند.) "
   ]
  },
  {
   "cell_type": "code",
   "execution_count": 34,
   "id": "cd63aa2c",
   "metadata": {},
   "outputs": [
    {
     "data": {
      "image/png": "[encoded data removed]",
      "text/plain": [
       "plot without title"
      ]
     },
     "metadata": {
      "image/png": {
       "height": 420,
       "width": 420
      }
     },
     "output_type": "display_data"
    }
   ],
   "source": [
    "ggboxplot(Data, x = \"Duration\", y = \"Time\", color = \"Area\")"
   ]
  },
  {
   "cell_type": "markdown",
   "id": "f11e4de7",
   "metadata": {},
   "source": [
    "(باکس پلات گروه بندی شده در بالا)نکته قایل توجه در نمودار بالا این است که با محرک 50میلی ثانیه ای در ناحیه ی ای پاسخی سریع داده شده است،و درناحیه ی بی در 100میلی ثانیه تحریک کمترین ریکشن تایم را داریم. احتمال میرود که این دو ناحیه با هم همبستگی داشته باشن. با گرفتن آنووا میتوان این مورد را بررسی کرد."
   ]
  },
  {
   "cell_type": "markdown",
   "id": "3aeb655e",
   "metadata": {},
   "source": [
    "# سوال چهارم"
   ]
  },
  {
   "cell_type": "code",
   "execution_count": 35,
   "id": "208244a4",
   "metadata": {},
   "outputs": [
    {
     "data": {
      "text/html": [
       "<table class=\"dataframe\">\n",
       "<caption>A tibble: 9 × 15</caption>\n",
       "<thead>\n",
       "\t<tr><th scope=col>Area</th><th scope=col>Duration</th><th scope=col>variable</th><th scope=col>n</th><th scope=col>min</th><th scope=col>max</th><th scope=col>median</th><th scope=col>q1</th><th scope=col>q3</th><th scope=col>iqr</th><th scope=col>mad</th><th scope=col>mean</th><th scope=col>sd</th><th scope=col>se</th><th scope=col>ci</th></tr>\n",
       "\t<tr><th scope=col>&lt;chr&gt;</th><th scope=col>&lt;chr&gt;</th><th scope=col>&lt;fct&gt;</th><th scope=col>&lt;dbl&gt;</th><th scope=col>&lt;dbl&gt;</th><th scope=col>&lt;dbl&gt;</th><th scope=col>&lt;dbl&gt;</th><th scope=col>&lt;dbl&gt;</th><th scope=col>&lt;dbl&gt;</th><th scope=col>&lt;dbl&gt;</th><th scope=col>&lt;dbl&gt;</th><th scope=col>&lt;dbl&gt;</th><th scope=col>&lt;dbl&gt;</th><th scope=col>&lt;dbl&gt;</th><th scope=col>&lt;dbl&gt;</th></tr>\n",
       "</thead>\n",
       "<tbody>\n",
       "\t<tr><td>AreaA  </td><td>100</td><td>Time</td><td>5</td><td>19</td><td>31</td><td>22</td><td>20</td><td>23</td><td>3</td><td>2.965</td><td>23.0</td><td>4.743</td><td>2.121</td><td>5.890</td></tr>\n",
       "\t<tr><td>AreaA  </td><td>150</td><td>Time</td><td>5</td><td>21</td><td>35</td><td>27</td><td>23</td><td>28</td><td>5</td><td>5.930</td><td>26.8</td><td>5.404</td><td>2.417</td><td>6.710</td></tr>\n",
       "\t<tr><td>AreaA  </td><td>50 </td><td>Time</td><td>5</td><td>11</td><td>26</td><td>15</td><td>14</td><td>18</td><td>4</td><td>4.448</td><td>16.8</td><td>5.718</td><td>2.557</td><td>7.100</td></tr>\n",
       "\t<tr><td>AreaB  </td><td>100</td><td>Time</td><td>5</td><td> 9</td><td>24</td><td>16</td><td>13</td><td>18</td><td>5</td><td>4.448</td><td>16.0</td><td>5.612</td><td>2.510</td><td>6.969</td></tr>\n",
       "\t<tr><td>AreaB  </td><td>150</td><td>Time</td><td>5</td><td>21</td><td>30</td><td>28</td><td>23</td><td>30</td><td>7</td><td>2.965</td><td>26.4</td><td>4.159</td><td>1.860</td><td>5.164</td></tr>\n",
       "\t<tr><td>AreaB  </td><td>50 </td><td>Time</td><td>5</td><td>18</td><td>30</td><td>23</td><td>23</td><td>28</td><td>5</td><td>7.413</td><td>24.4</td><td>4.722</td><td>2.112</td><td>5.863</td></tr>\n",
       "\t<tr><td>Neutral</td><td>100</td><td>Time</td><td>5</td><td>23</td><td>35</td><td>27</td><td>25</td><td>30</td><td>5</td><td>4.448</td><td>28.0</td><td>4.690</td><td>2.098</td><td>5.824</td></tr>\n",
       "\t<tr><td>Neutral</td><td>150</td><td>Time</td><td>5</td><td>20</td><td>35</td><td>28</td><td>26</td><td>31</td><td>5</td><td>4.448</td><td>28.0</td><td>5.612</td><td>2.510</td><td>6.969</td></tr>\n",
       "\t<tr><td>Neutral</td><td>50 </td><td>Time</td><td>5</td><td>20</td><td>40</td><td>28</td><td>25</td><td>30</td><td>5</td><td>4.448</td><td>28.6</td><td>7.403</td><td>3.311</td><td>9.192</td></tr>\n",
       "</tbody>\n",
       "</table>\n"
      ],
      "text/latex": [
       "A tibble: 9 × 15\n",
       "\\begin{tabular}{lllllllllllllll}\n",
       " Area & Duration & variable & n & min & max & median & q1 & q3 & iqr & mad & mean & sd & se & ci\\\\\n",
       " <chr> & <chr> & <fct> & <dbl> & <dbl> & <dbl> & <dbl> & <dbl> & <dbl> & <dbl> & <dbl> & <dbl> & <dbl> & <dbl> & <dbl>\\\\\n",
       "\\hline\n",
       "\t AreaA   & 100 & Time & 5 & 19 & 31 & 22 & 20 & 23 & 3 & 2.965 & 23.0 & 4.743 & 2.121 & 5.890\\\\\n",
       "\t AreaA   & 150 & Time & 5 & 21 & 35 & 27 & 23 & 28 & 5 & 5.930 & 26.8 & 5.404 & 2.417 & 6.710\\\\\n",
       "\t AreaA   & 50  & Time & 5 & 11 & 26 & 15 & 14 & 18 & 4 & 4.448 & 16.8 & 5.718 & 2.557 & 7.100\\\\\n",
       "\t AreaB   & 100 & Time & 5 &  9 & 24 & 16 & 13 & 18 & 5 & 4.448 & 16.0 & 5.612 & 2.510 & 6.969\\\\\n",
       "\t AreaB   & 150 & Time & 5 & 21 & 30 & 28 & 23 & 30 & 7 & 2.965 & 26.4 & 4.159 & 1.860 & 5.164\\\\\n",
       "\t AreaB   & 50  & Time & 5 & 18 & 30 & 23 & 23 & 28 & 5 & 7.413 & 24.4 & 4.722 & 2.112 & 5.863\\\\\n",
       "\t Neutral & 100 & Time & 5 & 23 & 35 & 27 & 25 & 30 & 5 & 4.448 & 28.0 & 4.690 & 2.098 & 5.824\\\\\n",
       "\t Neutral & 150 & Time & 5 & 20 & 35 & 28 & 26 & 31 & 5 & 4.448 & 28.0 & 5.612 & 2.510 & 6.969\\\\\n",
       "\t Neutral & 50  & Time & 5 & 20 & 40 & 28 & 25 & 30 & 5 & 4.448 & 28.6 & 7.403 & 3.311 & 9.192\\\\\n",
       "\\end{tabular}\n"
      ],
      "text/markdown": [
       "\n",
       "A tibble: 9 × 15\n",
       "\n",
       "| Area &lt;chr&gt; | Duration &lt;chr&gt; | variable &lt;fct&gt; | n &lt;dbl&gt; | min &lt;dbl&gt; | max &lt;dbl&gt; | median &lt;dbl&gt; | q1 &lt;dbl&gt; | q3 &lt;dbl&gt; | iqr &lt;dbl&gt; | mad &lt;dbl&gt; | mean &lt;dbl&gt; | sd &lt;dbl&gt; | se &lt;dbl&gt; | ci &lt;dbl&gt; |\n",
       "|---|---|---|---|---|---|---|---|---|---|---|---|---|---|---|\n",
       "| AreaA   | 100 | Time | 5 | 19 | 31 | 22 | 20 | 23 | 3 | 2.965 | 23.0 | 4.743 | 2.121 | 5.890 |\n",
       "| AreaA   | 150 | Time | 5 | 21 | 35 | 27 | 23 | 28 | 5 | 5.930 | 26.8 | 5.404 | 2.417 | 6.710 |\n",
       "| AreaA   | 50  | Time | 5 | 11 | 26 | 15 | 14 | 18 | 4 | 4.448 | 16.8 | 5.718 | 2.557 | 7.100 |\n",
       "| AreaB   | 100 | Time | 5 |  9 | 24 | 16 | 13 | 18 | 5 | 4.448 | 16.0 | 5.612 | 2.510 | 6.969 |\n",
       "| AreaB   | 150 | Time | 5 | 21 | 30 | 28 | 23 | 30 | 7 | 2.965 | 26.4 | 4.159 | 1.860 | 5.164 |\n",
       "| AreaB   | 50  | Time | 5 | 18 | 30 | 23 | 23 | 28 | 5 | 7.413 | 24.4 | 4.722 | 2.112 | 5.863 |\n",
       "| Neutral | 100 | Time | 5 | 23 | 35 | 27 | 25 | 30 | 5 | 4.448 | 28.0 | 4.690 | 2.098 | 5.824 |\n",
       "| Neutral | 150 | Time | 5 | 20 | 35 | 28 | 26 | 31 | 5 | 4.448 | 28.0 | 5.612 | 2.510 | 6.969 |\n",
       "| Neutral | 50  | Time | 5 | 20 | 40 | 28 | 25 | 30 | 5 | 4.448 | 28.6 | 7.403 | 3.311 | 9.192 |\n",
       "\n"
      ],
      "text/plain": [
       "  Area    Duration variable n min max median q1 q3 iqr mad   mean sd    se   \n",
       "1 AreaA   100      Time     5 19  31  22     20 23 3   2.965 23.0 4.743 2.121\n",
       "2 AreaA   150      Time     5 21  35  27     23 28 5   5.930 26.8 5.404 2.417\n",
       "3 AreaA   50       Time     5 11  26  15     14 18 4   4.448 16.8 5.718 2.557\n",
       "4 AreaB   100      Time     5  9  24  16     13 18 5   4.448 16.0 5.612 2.510\n",
       "5 AreaB   150      Time     5 21  30  28     23 30 7   2.965 26.4 4.159 1.860\n",
       "6 AreaB   50       Time     5 18  30  23     23 28 5   7.413 24.4 4.722 2.112\n",
       "7 Neutral 100      Time     5 23  35  27     25 30 5   4.448 28.0 4.690 2.098\n",
       "8 Neutral 150      Time     5 20  35  28     26 31 5   4.448 28.0 5.612 2.510\n",
       "9 Neutral 50       Time     5 20  40  28     25 30 5   4.448 28.6 7.403 3.311\n",
       "  ci   \n",
       "1 5.890\n",
       "2 6.710\n",
       "3 7.100\n",
       "4 6.969\n",
       "5 5.164\n",
       "6 5.863\n",
       "7 5.824\n",
       "8 6.969\n",
       "9 9.192"
      ]
     },
     "metadata": {},
     "output_type": "display_data"
    }
   ],
   "source": [
    "Data %>% group_by(Area,Duration) %>% get_summary_stats(Time)"
   ]
  },
  {
   "cell_type": "markdown",
   "id": "c5e4ff26",
   "metadata": {},
   "source": [
    "میانگین نوترال ها با هم تفاوتی ندارند،در رابطه با سایر ناحیه ها وقتی میانگین آنها را بررسی می کنیم متوجه می شویم که ناحیه ی ای در 50میلی ثانیه و ناحیه ی بی در 100 میلی ثانیه میانگین های متفاوت از بقیه ی تایم های خود دارند. که میتوان انتظار معناداری داشت.همچنین با مقایسه ی میانه های ناحیه ها هم می توان متوجه تفاوت ها شد. مثلا میانه ی اریای اِی در 50میلی ثانیه 15 است و با 100 و 150میلی ثانیه خیلی متفاوت است. همین مورد درباره ی اریای بی در 100میلی ثانیه نیز صدق میکند."
   ]
  },
  {
   "cell_type": "markdown",
   "id": "de1eaf98",
   "metadata": {},
   "source": [
    "# سوال پنجم"
   ]
  },
  {
   "cell_type": "code",
   "execution_count": 7,
   "id": "8e936762",
   "metadata": {},
   "outputs": [],
   "source": [
    "library(rstatix)"
   ]
  },
  {
   "cell_type": "code",
   "execution_count": 14,
   "id": "604c2455",
   "metadata": {},
   "outputs": [
    {
     "data": {
      "text/html": [
       "<table class=\"dataframe\">\n",
       "<caption>A tibble: 3 × 5</caption>\n",
       "<thead>\n",
       "\t<tr><th scope=col>Area</th><th scope=col>Duration</th><th scope=col>Time</th><th scope=col>is.outlier</th><th scope=col>is.extreme</th></tr>\n",
       "\t<tr><th scope=col>&lt;chr&gt;</th><th scope=col>&lt;chr&gt;</th><th scope=col>&lt;int&gt;</th><th scope=col>&lt;lgl&gt;</th><th scope=col>&lt;lgl&gt;</th></tr>\n",
       "</thead>\n",
       "<tbody>\n",
       "\t<tr><td>AreaA  </td><td>100</td><td>31</td><td>TRUE</td><td>FALSE</td></tr>\n",
       "\t<tr><td>AreaA  </td><td>50 </td><td>26</td><td>TRUE</td><td>FALSE</td></tr>\n",
       "\t<tr><td>Neutral</td><td>50 </td><td>40</td><td>TRUE</td><td>FALSE</td></tr>\n",
       "</tbody>\n",
       "</table>\n"
      ],
      "text/latex": [
       "A tibble: 3 × 5\n",
       "\\begin{tabular}{lllll}\n",
       " Area & Duration & Time & is.outlier & is.extreme\\\\\n",
       " <chr> & <chr> & <int> & <lgl> & <lgl>\\\\\n",
       "\\hline\n",
       "\t AreaA   & 100 & 31 & TRUE & FALSE\\\\\n",
       "\t AreaA   & 50  & 26 & TRUE & FALSE\\\\\n",
       "\t Neutral & 50  & 40 & TRUE & FALSE\\\\\n",
       "\\end{tabular}\n"
      ],
      "text/markdown": [
       "\n",
       "A tibble: 3 × 5\n",
       "\n",
       "| Area &lt;chr&gt; | Duration &lt;chr&gt; | Time &lt;int&gt; | is.outlier &lt;lgl&gt; | is.extreme &lt;lgl&gt; |\n",
       "|---|---|---|---|---|\n",
       "| AreaA   | 100 | 31 | TRUE | FALSE |\n",
       "| AreaA   | 50  | 26 | TRUE | FALSE |\n",
       "| Neutral | 50  | 40 | TRUE | FALSE |\n",
       "\n"
      ],
      "text/plain": [
       "  Area    Duration Time is.outlier is.extreme\n",
       "1 AreaA   100      31   TRUE       FALSE     \n",
       "2 AreaA   50       26   TRUE       FALSE     \n",
       "3 Neutral 50       40   TRUE       FALSE     "
      ]
     },
     "metadata": {},
     "output_type": "display_data"
    }
   ],
   "source": [
    "Data %>% group_by(Area,Duration) %>% identify_outliers(Time)"
   ]
  },
  {
   "cell_type": "markdown",
   "id": "1506b3ae",
   "metadata": {},
   "source": [
    "در سطون ایزاوت لایر به ما گفته ترو که نشان دهنده ی این است که داده ی اوت لایر در نوترال و اریای اِی در 50 و 100 داریم.به نظر میرسد هیچ کدام از داده های پرتمان شدید نیستند. پس فعلا نمیتوانیم تصمیمی جهت حذف آنها بگیریم.پس با کد پایین جی جی کیوکیوپلات رسم می کنیم. با توجه به پلات پایین هم میتوان نتیجه گرفت که داده هایمان اکثرا در داخل ناحیه ی خاکستری است پس نیازی به حذف آن ها نیست. فقط برای اطمینان نرمال بودن داده هایمان را بررسی میکنیم تا مطمئن شویم که اوت لایر را حذف کنیم یا نه."
   ]
  },
  {
   "cell_type": "code",
   "execution_count": 16,
   "id": "9414cc93",
   "metadata": {},
   "outputs": [
    {
     "data": {
      "image/png": "[encoded data removed]",
      "text/plain": [
       "plot without title"
      ]
     },
     "metadata": {
      "image/png": {
       "height": 420,
       "width": 420
      }
     },
     "output_type": "display_data"
    }
   ],
   "source": [
    "ggqqplot(Data$Time)"
   ]
  },
  {
   "cell_type": "code",
   "execution_count": 17,
   "id": "ec88e7ad",
   "metadata": {},
   "outputs": [
    {
     "data": {
      "text/html": [
       "<table class=\"dataframe\">\n",
       "<caption>A tibble: 9 × 5</caption>\n",
       "<thead>\n",
       "\t<tr><th scope=col>Area</th><th scope=col>Duration</th><th scope=col>variable</th><th scope=col>statistic</th><th scope=col>p</th></tr>\n",
       "\t<tr><th scope=col>&lt;chr&gt;</th><th scope=col>&lt;chr&gt;</th><th scope=col>&lt;chr&gt;</th><th scope=col>&lt;dbl&gt;</th><th scope=col>&lt;dbl&gt;</th></tr>\n",
       "</thead>\n",
       "<tbody>\n",
       "\t<tr><td>AreaA  </td><td>100</td><td>Time</td><td>0.8409519</td><td>0.1675703</td></tr>\n",
       "\t<tr><td>AreaA  </td><td>150</td><td>Time</td><td>0.9460349</td><td>0.7088551</td></tr>\n",
       "\t<tr><td>AreaA  </td><td>50 </td><td>Time</td><td>0.9141809</td><td>0.4931178</td></tr>\n",
       "\t<tr><td>AreaB  </td><td>100</td><td>Time</td><td>0.9913625</td><td>0.9842414</td></tr>\n",
       "\t<tr><td>AreaB  </td><td>150</td><td>Time</td><td>0.8504109</td><td>0.1958209</td></tr>\n",
       "\t<tr><td>AreaB  </td><td>50 </td><td>Time</td><td>0.9452666</td><td>0.7033700</td></tr>\n",
       "\t<tr><td>Neutral</td><td>100</td><td>Time</td><td>0.9581566</td><td>0.7950916</td></tr>\n",
       "\t<tr><td>Neutral</td><td>150</td><td>Time</td><td>0.9913625</td><td>0.9842414</td></tr>\n",
       "\t<tr><td>Neutral</td><td>50 </td><td>Time</td><td>0.9591148</td><td>0.8018062</td></tr>\n",
       "</tbody>\n",
       "</table>\n"
      ],
      "text/latex": [
       "A tibble: 9 × 5\n",
       "\\begin{tabular}{lllll}\n",
       " Area & Duration & variable & statistic & p\\\\\n",
       " <chr> & <chr> & <chr> & <dbl> & <dbl>\\\\\n",
       "\\hline\n",
       "\t AreaA   & 100 & Time & 0.8409519 & 0.1675703\\\\\n",
       "\t AreaA   & 150 & Time & 0.9460349 & 0.7088551\\\\\n",
       "\t AreaA   & 50  & Time & 0.9141809 & 0.4931178\\\\\n",
       "\t AreaB   & 100 & Time & 0.9913625 & 0.9842414\\\\\n",
       "\t AreaB   & 150 & Time & 0.8504109 & 0.1958209\\\\\n",
       "\t AreaB   & 50  & Time & 0.9452666 & 0.7033700\\\\\n",
       "\t Neutral & 100 & Time & 0.9581566 & 0.7950916\\\\\n",
       "\t Neutral & 150 & Time & 0.9913625 & 0.9842414\\\\\n",
       "\t Neutral & 50  & Time & 0.9591148 & 0.8018062\\\\\n",
       "\\end{tabular}\n"
      ],
      "text/markdown": [
       "\n",
       "A tibble: 9 × 5\n",
       "\n",
       "| Area &lt;chr&gt; | Duration &lt;chr&gt; | variable &lt;chr&gt; | statistic &lt;dbl&gt; | p &lt;dbl&gt; |\n",
       "|---|---|---|---|---|\n",
       "| AreaA   | 100 | Time | 0.8409519 | 0.1675703 |\n",
       "| AreaA   | 150 | Time | 0.9460349 | 0.7088551 |\n",
       "| AreaA   | 50  | Time | 0.9141809 | 0.4931178 |\n",
       "| AreaB   | 100 | Time | 0.9913625 | 0.9842414 |\n",
       "| AreaB   | 150 | Time | 0.8504109 | 0.1958209 |\n",
       "| AreaB   | 50  | Time | 0.9452666 | 0.7033700 |\n",
       "| Neutral | 100 | Time | 0.9581566 | 0.7950916 |\n",
       "| Neutral | 150 | Time | 0.9913625 | 0.9842414 |\n",
       "| Neutral | 50  | Time | 0.9591148 | 0.8018062 |\n",
       "\n"
      ],
      "text/plain": [
       "  Area    Duration variable statistic p        \n",
       "1 AreaA   100      Time     0.8409519 0.1675703\n",
       "2 AreaA   150      Time     0.9460349 0.7088551\n",
       "3 AreaA   50       Time     0.9141809 0.4931178\n",
       "4 AreaB   100      Time     0.9913625 0.9842414\n",
       "5 AreaB   150      Time     0.8504109 0.1958209\n",
       "6 AreaB   50       Time     0.9452666 0.7033700\n",
       "7 Neutral 100      Time     0.9581566 0.7950916\n",
       "8 Neutral 150      Time     0.9913625 0.9842414\n",
       "9 Neutral 50       Time     0.9591148 0.8018062"
      ]
     },
     "metadata": {},
     "output_type": "display_data"
    }
   ],
   "source": [
    "Data %>% group_by(Area,Duration) %>% shapiro_test(Time)"
   ]
  },
  {
   "cell_type": "markdown",
   "id": "5d28f257",
   "metadata": {},
   "source": [
    "با مقایسه ی پی ولیوها با آلفای پنج صدم میبینیم که همه ی 9گروه پی ولیوی بالای پنج صدم دارند پس تمامی گروه های ما توزیع نرمال دارند و نتیجه می گیریم که نیازی به حذفی نداریم."
   ]
  },
  {
   "cell_type": "markdown",
   "id": "2f86fee6",
   "metadata": {},
   "source": [
    "# سوال ششم وهفتم"
   ]
  },
  {
   "cell_type": "code",
   "execution_count": 7,
   "id": "313eb289",
   "metadata": {},
   "outputs": [],
   "source": [
    "samples = replicate(50, sample(Data$Time, 5))\n",
    "sample_means = apply(samples, 2, mean)"
   ]
  },
  {
   "cell_type": "code",
   "execution_count": 4,
   "id": "1d1cf240",
   "metadata": {},
   "outputs": [
    {
     "data": {
      "image/png": "[encoded data removed]",
      "text/plain": [
       "Plot with title \"Histogram of sample_means\""
      ]
     },
     "metadata": {
      "image/png": {
       "height": 420,
       "width": 420
      }
     },
     "output_type": "display_data"
    }
   ],
   "source": [
    "hist(sample_means, breaks = 100, probability = TRUE)\n",
    "abline(v = mean(Data$Time), col = \"red\", lwd = 2)"
   ]
  },
  {
   "cell_type": "code",
   "execution_count": 18,
   "id": "fd6a32c3",
   "metadata": {},
   "outputs": [
    {
     "name": "stdout",
     "output_type": "stream",
     "text": [
      "Main Data Mean: 24.22222 \n",
      "Main Data SD: 6.694261 \n"
     ]
    }
   ],
   "source": [
    "cat(\"Main Data Mean:\", mean(Data$Time), \"\\n\")\n",
    "cat(\"Main Data SD:\", sd(Data$Time), \"\\n\")"
   ]
  },
  {
   "cell_type": "code",
   "execution_count": 6,
   "id": "f63aa7ad",
   "metadata": {},
   "outputs": [
    {
     "name": "stdout",
     "output_type": "stream",
     "text": [
      "Mean of Sample Means: 23.968 \n",
      "Standard Deviation of Sample Means: 2.805057 \n"
     ]
    }
   ],
   "source": [
    "cat(\"Mean of Sample Means:\", mean(sample_means), \"\\n\")\n",
    "cat(\"Standard Deviation of Sample Means:\", sd(sample_means), \"\\n\")"
   ]
  },
  {
   "cell_type": "markdown",
   "id": "44fb54c1",
   "metadata": {},
   "source": [
    "قضیه ی حد مرکزی بیان میکند که بدون توجه به توزیع اصلی جمعیت، توزیع نمونه میانگین برای اندازه نمونه کافی بزرگ، تقریباً نرمال خواهد بود.میانگین و انحراف معیار توزیع نمونه باید به میانگین و انحراف معیار جامعه نزدیک باشد(که با توجه به اعداد بالا میبینیم که برای داده های ما هم نزدیک هستند).به علت قضیه ی حد مرکزی اگر نمونه های بیشتری با اندازه ۵ بکشیم، نتیجه تقریبا به توزیع نرمال نزدیکتر میشود،\n",
    "اگر ۵۰ نمونه با اندازه ۱۵ بکشیم هم، احتمالاً به نتیجه ای نزدیکتر به توزیع نرمال خواهید رسید، باز هم به علت قضیه ی حد مرکزی(کدهای این سوال تدریس نشده بود و خودمان باید آن ها را پیدا می کردیم) "
   ]
  },
  {
   "cell_type": "markdown",
   "id": "46955d10",
   "metadata": {},
   "source": [
    "# سوال هشتم"
   ]
  },
  {
   "cell_type": "code",
   "execution_count": 25,
   "id": "a7d00127",
   "metadata": {},
   "outputs": [
    {
     "data": {
      "image/png": "[encoded data removed]",
      "text/plain": [
       "plot without title"
      ]
     },
     "metadata": {
      "image/png": {
       "height": 420,
       "width": 420
      }
     },
     "output_type": "display_data"
    }
   ],
   "source": [
    "ggqqplot(Data$Time)"
   ]
  },
  {
   "cell_type": "markdown",
   "id": "54d7c59d",
   "metadata": {},
   "source": [
    "با بررسی کیوکیوپلات نرمال بودن داده هارا چک میکنیم.(در سوال پنج نیز بررسی کرده بودیم)"
   ]
  },
  {
   "cell_type": "markdown",
   "id": "81c2cac7",
   "metadata": {},
   "source": [
    "# سوال نهم"
   ]
  },
  {
   "cell_type": "code",
   "execution_count": 41,
   "id": "a77f76f3",
   "metadata": {},
   "outputs": [
    {
     "data": {
      "text/html": [
       "<table class=\"dataframe\">\n",
       "<caption>A tibble: 1 × 4</caption>\n",
       "<thead>\n",
       "\t<tr><th scope=col>df1</th><th scope=col>df2</th><th scope=col>statistic</th><th scope=col>p</th></tr>\n",
       "\t<tr><th scope=col>&lt;int&gt;</th><th scope=col>&lt;int&gt;</th><th scope=col>&lt;dbl&gt;</th><th scope=col>&lt;dbl&gt;</th></tr>\n",
       "</thead>\n",
       "<tbody>\n",
       "\t<tr><td>8</td><td>36</td><td>0.1355422</td><td>0.9970647</td></tr>\n",
       "</tbody>\n",
       "</table>\n"
      ],
      "text/latex": [
       "A tibble: 1 × 4\n",
       "\\begin{tabular}{llll}\n",
       " df1 & df2 & statistic & p\\\\\n",
       " <int> & <int> & <dbl> & <dbl>\\\\\n",
       "\\hline\n",
       "\t 8 & 36 & 0.1355422 & 0.9970647\\\\\n",
       "\\end{tabular}\n"
      ],
      "text/markdown": [
       "\n",
       "A tibble: 1 × 4\n",
       "\n",
       "| df1 &lt;int&gt; | df2 &lt;int&gt; | statistic &lt;dbl&gt; | p &lt;dbl&gt; |\n",
       "|---|---|---|---|\n",
       "| 8 | 36 | 0.1355422 | 0.9970647 |\n",
       "\n"
      ],
      "text/plain": [
       "  df1 df2 statistic p        \n",
       "1 8   36  0.1355422 0.9970647"
      ]
     },
     "metadata": {},
     "output_type": "display_data"
    }
   ],
   "source": [
    "Data %>% levene_test(Time ~ Duration * Area)"
   ]
  },
  {
   "cell_type": "markdown",
   "id": "c3f91649",
   "metadata": {},
   "source": [
    "برای بررسی همگن بودن واریانس ها این تستو میگیریم و به علت بالا بودن پی ولیو میفهمیم همگنی برقراره."
   ]
  },
  {
   "cell_type": "markdown",
   "id": "8c55636e",
   "metadata": {},
   "source": [
    "فرض صفر ما مقایسه میانگین نه گروه مستقل است. که می گوید میانگین نه گروه با هم برابر است. از آزمون آنووا استفاده می کنیم چون بیش از دو گروه داریم.آنووا بین گروهی و دو راهه است. دوراهه به این علت که دو متغیر مستقل داریم (دیوریشن و اریا) "
   ]
  },
  {
   "cell_type": "code",
   "execution_count": 28,
   "id": "8dac1bc9",
   "metadata": {},
   "outputs": [
    {
     "data": {
      "text/html": [
       "<table class=\"dataframe\">\n",
       "<caption>A anova_test: 3 × 7</caption>\n",
       "<thead>\n",
       "\t<tr><th></th><th scope=col>Effect</th><th scope=col>DFn</th><th scope=col>DFd</th><th scope=col>F</th><th scope=col>p</th><th scope=col>p&lt;.05</th><th scope=col>ges</th></tr>\n",
       "\t<tr><th></th><th scope=col>&lt;chr&gt;</th><th scope=col>&lt;dbl&gt;</th><th scope=col>&lt;dbl&gt;</th><th scope=col>&lt;dbl&gt;</th><th scope=col>&lt;dbl&gt;</th><th scope=col>&lt;chr&gt;</th><th scope=col>&lt;dbl&gt;</th></tr>\n",
       "</thead>\n",
       "<tbody>\n",
       "\t<tr><th scope=row>1</th><td>Area         </td><td>2</td><td>36</td><td>6.074</td><td>0.005</td><td>*</td><td>0.252</td></tr>\n",
       "\t<tr><th scope=row>2</th><td>Duration     </td><td>2</td><td>36</td><td>3.217</td><td>0.052</td><td> </td><td>0.152</td></tr>\n",
       "\t<tr><th scope=row>3</th><td>Area:Duration</td><td>4</td><td>36</td><td>3.172</td><td>0.025</td><td>*</td><td>0.261</td></tr>\n",
       "</tbody>\n",
       "</table>\n"
      ],
      "text/latex": [
       "A anova\\_test: 3 × 7\n",
       "\\begin{tabular}{r|lllllll}\n",
       "  & Effect & DFn & DFd & F & p & p<.05 & ges\\\\\n",
       "  & <chr> & <dbl> & <dbl> & <dbl> & <dbl> & <chr> & <dbl>\\\\\n",
       "\\hline\n",
       "\t1 & Area          & 2 & 36 & 6.074 & 0.005 & * & 0.252\\\\\n",
       "\t2 & Duration      & 2 & 36 & 3.217 & 0.052 &   & 0.152\\\\\n",
       "\t3 & Area:Duration & 4 & 36 & 3.172 & 0.025 & * & 0.261\\\\\n",
       "\\end{tabular}\n"
      ],
      "text/markdown": [
       "\n",
       "A anova_test: 3 × 7\n",
       "\n",
       "| <!--/--> | Effect &lt;chr&gt; | DFn &lt;dbl&gt; | DFd &lt;dbl&gt; | F &lt;dbl&gt; | p &lt;dbl&gt; | p&lt;.05 &lt;chr&gt; | ges &lt;dbl&gt; |\n",
       "|---|---|---|---|---|---|---|---|\n",
       "| 1 | Area          | 2 | 36 | 6.074 | 0.005 | * | 0.252 |\n",
       "| 2 | Duration      | 2 | 36 | 3.217 | 0.052 | <!----> | 0.152 |\n",
       "| 3 | Area:Duration | 4 | 36 | 3.172 | 0.025 | * | 0.261 |\n",
       "\n"
      ],
      "text/plain": [
       "  Effect        DFn DFd F     p     p<.05 ges  \n",
       "1 Area          2   36  6.074 0.005 *     0.252\n",
       "2 Duration      2   36  3.217 0.052       0.152\n",
       "3 Area:Duration 4   36  3.172 0.025 *     0.261"
      ]
     },
     "metadata": {},
     "output_type": "display_data"
    }
   ],
   "source": [
    "anova_test(Data, Time ~ Area * Duration)"
   ]
  },
  {
   "cell_type": "markdown",
   "id": "55dc37d6",
   "metadata": {},
   "source": [
    "از بررسی این جدول متوجه می شویم که اریا با یک ستاره معنادار است. دیوریشن به تنهایی معناداری ندارد. تعامل اریا و دیوریشن با یک ستاره معناداری دارد.(یک ستاره به معنی آلفای 0.05 است)"
   ]
  },
  {
   "cell_type": "markdown",
   "id": "ce3d1a3b",
   "metadata": {},
   "source": [
    "# آزمون های تعقیبی"
   ]
  },
  {
   "cell_type": "code",
   "execution_count": 30,
   "id": "4388fcd7",
   "metadata": {},
   "outputs": [
    {
     "data": {
      "text/html": [
       "<table class=\"dataframe\">\n",
       "<caption>A grouped_anova_test: 3 × 8</caption>\n",
       "<thead>\n",
       "\t<tr><th></th><th scope=col>Area</th><th scope=col>Effect</th><th scope=col>DFn</th><th scope=col>DFd</th><th scope=col>F</th><th scope=col>p</th><th scope=col>p&lt;.05</th><th scope=col>ges</th></tr>\n",
       "\t<tr><th></th><th scope=col>&lt;chr&gt;</th><th scope=col>&lt;chr&gt;</th><th scope=col>&lt;dbl&gt;</th><th scope=col>&lt;dbl&gt;</th><th scope=col>&lt;dbl&gt;</th><th scope=col>&lt;dbl&gt;</th><th scope=col>&lt;chr&gt;</th><th scope=col>&lt;dbl&gt;</th></tr>\n",
       "</thead>\n",
       "<tbody>\n",
       "\t<tr><th scope=row>1</th><td>AreaA  </td><td>Duration</td><td>2</td><td>12</td><td>4.528</td><td>0.034</td><td>*</td><td>0.430</td></tr>\n",
       "\t<tr><th scope=row>2</th><td>AreaB  </td><td>Duration</td><td>2</td><td>12</td><td>6.425</td><td>0.013</td><td>*</td><td>0.517</td></tr>\n",
       "\t<tr><th scope=row>3</th><td>Neutral</td><td>Duration</td><td>2</td><td>12</td><td>0.017</td><td>0.984</td><td> </td><td>0.003</td></tr>\n",
       "</tbody>\n",
       "</table>\n"
      ],
      "text/latex": [
       "A grouped\\_anova\\_test: 3 × 8\n",
       "\\begin{tabular}{r|llllllll}\n",
       "  & Area & Effect & DFn & DFd & F & p & p<.05 & ges\\\\\n",
       "  & <chr> & <chr> & <dbl> & <dbl> & <dbl> & <dbl> & <chr> & <dbl>\\\\\n",
       "\\hline\n",
       "\t1 & AreaA   & Duration & 2 & 12 & 4.528 & 0.034 & * & 0.430\\\\\n",
       "\t2 & AreaB   & Duration & 2 & 12 & 6.425 & 0.013 & * & 0.517\\\\\n",
       "\t3 & Neutral & Duration & 2 & 12 & 0.017 & 0.984 &   & 0.003\\\\\n",
       "\\end{tabular}\n"
      ],
      "text/markdown": [
       "\n",
       "A grouped_anova_test: 3 × 8\n",
       "\n",
       "| <!--/--> | Area &lt;chr&gt; | Effect &lt;chr&gt; | DFn &lt;dbl&gt; | DFd &lt;dbl&gt; | F &lt;dbl&gt; | p &lt;dbl&gt; | p&lt;.05 &lt;chr&gt; | ges &lt;dbl&gt; |\n",
       "|---|---|---|---|---|---|---|---|---|\n",
       "| 1 | AreaA   | Duration | 2 | 12 | 4.528 | 0.034 | * | 0.430 |\n",
       "| 2 | AreaB   | Duration | 2 | 12 | 6.425 | 0.013 | * | 0.517 |\n",
       "| 3 | Neutral | Duration | 2 | 12 | 0.017 | 0.984 | <!----> | 0.003 |\n",
       "\n"
      ],
      "text/plain": [
       "  Area    Effect   DFn DFd F     p     p<.05 ges  \n",
       "1 AreaA   Duration 2   12  4.528 0.034 *     0.430\n",
       "2 AreaB   Duration 2   12  6.425 0.013 *     0.517\n",
       "3 Neutral Duration 2   12  0.017 0.984       0.003"
      ]
     },
     "metadata": {},
     "output_type": "display_data"
    }
   ],
   "source": [
    "Data %>% group_by(Area) %>% anova_test(Time ~ Duration)"
   ]
  },
  {
   "cell_type": "markdown",
   "id": "a8e2e763",
   "metadata": {},
   "source": [
    "با این آزمون تعقیبی متوجه شدیم که اریای ای و بی در دیوریشن ها با یک ستاره معنی دارند و طبق انتظارمون ناحیه ی نوترال معناداری ندارد."
   ]
  },
  {
   "cell_type": "code",
   "execution_count": 40,
   "id": "abad6ef7",
   "metadata": {},
   "outputs": [
    {
     "data": {
      "text/html": [
       "<table class=\"dataframe\">\n",
       "<caption>A rstatix_test: 9 × 10</caption>\n",
       "<thead>\n",
       "\t<tr><th></th><th scope=col>Duration</th><th scope=col>term</th><th scope=col>.y.</th><th scope=col>group1</th><th scope=col>group2</th><th scope=col>df</th><th scope=col>statistic</th><th scope=col>p</th><th scope=col>p.adj</th><th scope=col>p.adj.signif</th></tr>\n",
       "\t<tr><th></th><th scope=col>&lt;fct&gt;</th><th scope=col>&lt;chr&gt;</th><th scope=col>&lt;chr&gt;</th><th scope=col>&lt;chr&gt;</th><th scope=col>&lt;chr&gt;</th><th scope=col>&lt;dbl&gt;</th><th scope=col>&lt;dbl&gt;</th><th scope=col>&lt;dbl&gt;</th><th scope=col>&lt;dbl&gt;</th><th scope=col>&lt;chr&gt;</th></tr>\n",
       "</thead>\n",
       "<tbody>\n",
       "\t<tr><th scope=row>1</th><td>100</td><td>Area</td><td>Time</td><td>AreaA</td><td>AreaB  </td><td>36</td><td> 2.0443342</td><td>0.048287184</td><td>0.144861551</td><td>ns</td></tr>\n",
       "\t<tr><th scope=row>2</th><td>100</td><td>Area</td><td>Time</td><td>AreaA</td><td>Neutral</td><td>36</td><td>-1.4602387</td><td>0.152897216</td><td>0.458691648</td><td>ns</td></tr>\n",
       "\t<tr><th scope=row>3</th><td>100</td><td>Area</td><td>Time</td><td>AreaB</td><td>Neutral</td><td>36</td><td>-3.5045730</td><td>0.001243002</td><td>0.003729006</td><td>**</td></tr>\n",
       "\t<tr><th scope=row>4</th><td>150</td><td>Area</td><td>Time</td><td>AreaA</td><td>AreaB  </td><td>36</td><td> 0.1168191</td><td>0.907652697</td><td>1.000000000</td><td>ns</td></tr>\n",
       "\t<tr><th scope=row>5</th><td>150</td><td>Area</td><td>Time</td><td>AreaA</td><td>Neutral</td><td>36</td><td>-0.3504573</td><td>0.728037926</td><td>1.000000000</td><td>ns</td></tr>\n",
       "\t<tr><th scope=row>6</th><td>150</td><td>Area</td><td>Time</td><td>AreaB</td><td>Neutral</td><td>36</td><td>-0.4672764</td><td>0.643118245</td><td>1.000000000</td><td>ns</td></tr>\n",
       "\t<tr><th scope=row>7</th><td>50 </td><td>Area</td><td>Time</td><td>AreaA</td><td>AreaB  </td><td>36</td><td>-2.2195629</td><td>0.032836378</td><td>0.098509134</td><td>ns</td></tr>\n",
       "\t<tr><th scope=row>8</th><td>50 </td><td>Area</td><td>Time</td><td>AreaA</td><td>Neutral</td><td>36</td><td>-3.4461634</td><td>0.001462476</td><td>0.004387428</td><td>**</td></tr>\n",
       "\t<tr><th scope=row>9</th><td>50 </td><td>Area</td><td>Time</td><td>AreaB</td><td>Neutral</td><td>36</td><td>-1.2266005</td><td>0.227935062</td><td>0.683805185</td><td>ns</td></tr>\n",
       "</tbody>\n",
       "</table>\n"
      ],
      "text/latex": [
       "A rstatix\\_test: 9 × 10\n",
       "\\begin{tabular}{r|llllllllll}\n",
       "  & Duration & term & .y. & group1 & group2 & df & statistic & p & p.adj & p.adj.signif\\\\\n",
       "  & <fct> & <chr> & <chr> & <chr> & <chr> & <dbl> & <dbl> & <dbl> & <dbl> & <chr>\\\\\n",
       "\\hline\n",
       "\t1 & 100 & Area & Time & AreaA & AreaB   & 36 &  2.0443342 & 0.048287184 & 0.144861551 & ns\\\\\n",
       "\t2 & 100 & Area & Time & AreaA & Neutral & 36 & -1.4602387 & 0.152897216 & 0.458691648 & ns\\\\\n",
       "\t3 & 100 & Area & Time & AreaB & Neutral & 36 & -3.5045730 & 0.001243002 & 0.003729006 & **\\\\\n",
       "\t4 & 150 & Area & Time & AreaA & AreaB   & 36 &  0.1168191 & 0.907652697 & 1.000000000 & ns\\\\\n",
       "\t5 & 150 & Area & Time & AreaA & Neutral & 36 & -0.3504573 & 0.728037926 & 1.000000000 & ns\\\\\n",
       "\t6 & 150 & Area & Time & AreaB & Neutral & 36 & -0.4672764 & 0.643118245 & 1.000000000 & ns\\\\\n",
       "\t7 & 50  & Area & Time & AreaA & AreaB   & 36 & -2.2195629 & 0.032836378 & 0.098509134 & ns\\\\\n",
       "\t8 & 50  & Area & Time & AreaA & Neutral & 36 & -3.4461634 & 0.001462476 & 0.004387428 & **\\\\\n",
       "\t9 & 50  & Area & Time & AreaB & Neutral & 36 & -1.2266005 & 0.227935062 & 0.683805185 & ns\\\\\n",
       "\\end{tabular}\n"
      ],
      "text/markdown": [
       "\n",
       "A rstatix_test: 9 × 10\n",
       "\n",
       "| <!--/--> | Duration &lt;fct&gt; | term &lt;chr&gt; | .y. &lt;chr&gt; | group1 &lt;chr&gt; | group2 &lt;chr&gt; | df &lt;dbl&gt; | statistic &lt;dbl&gt; | p &lt;dbl&gt; | p.adj &lt;dbl&gt; | p.adj.signif &lt;chr&gt; |\n",
       "|---|---|---|---|---|---|---|---|---|---|---|\n",
       "| 1 | 100 | Area | Time | AreaA | AreaB   | 36 |  2.0443342 | 0.048287184 | 0.144861551 | ns |\n",
       "| 2 | 100 | Area | Time | AreaA | Neutral | 36 | -1.4602387 | 0.152897216 | 0.458691648 | ns |\n",
       "| 3 | 100 | Area | Time | AreaB | Neutral | 36 | -3.5045730 | 0.001243002 | 0.003729006 | ** |\n",
       "| 4 | 150 | Area | Time | AreaA | AreaB   | 36 |  0.1168191 | 0.907652697 | 1.000000000 | ns |\n",
       "| 5 | 150 | Area | Time | AreaA | Neutral | 36 | -0.3504573 | 0.728037926 | 1.000000000 | ns |\n",
       "| 6 | 150 | Area | Time | AreaB | Neutral | 36 | -0.4672764 | 0.643118245 | 1.000000000 | ns |\n",
       "| 7 | 50  | Area | Time | AreaA | AreaB   | 36 | -2.2195629 | 0.032836378 | 0.098509134 | ns |\n",
       "| 8 | 50  | Area | Time | AreaA | Neutral | 36 | -3.4461634 | 0.001462476 | 0.004387428 | ** |\n",
       "| 9 | 50  | Area | Time | AreaB | Neutral | 36 | -1.2266005 | 0.227935062 | 0.683805185 | ns |\n",
       "\n"
      ],
      "text/plain": [
       "  Duration term .y.  group1 group2  df statistic  p           p.adj      \n",
       "1 100      Area Time AreaA  AreaB   36  2.0443342 0.048287184 0.144861551\n",
       "2 100      Area Time AreaA  Neutral 36 -1.4602387 0.152897216 0.458691648\n",
       "3 100      Area Time AreaB  Neutral 36 -3.5045730 0.001243002 0.003729006\n",
       "4 150      Area Time AreaA  AreaB   36  0.1168191 0.907652697 1.000000000\n",
       "5 150      Area Time AreaA  Neutral 36 -0.3504573 0.728037926 1.000000000\n",
       "6 150      Area Time AreaB  Neutral 36 -0.4672764 0.643118245 1.000000000\n",
       "7 50       Area Time AreaA  AreaB   36 -2.2195629 0.032836378 0.098509134\n",
       "8 50       Area Time AreaA  Neutral 36 -3.4461634 0.001462476 0.004387428\n",
       "9 50       Area Time AreaB  Neutral 36 -1.2266005 0.227935062 0.683805185\n",
       "  p.adj.signif\n",
       "1 ns          \n",
       "2 ns          \n",
       "3 **          \n",
       "4 ns          \n",
       "5 ns          \n",
       "6 ns          \n",
       "7 ns          \n",
       "8 **          \n",
       "9 ns          "
      ]
     },
     "metadata": {},
     "output_type": "display_data"
    }
   ],
   "source": [
    "Data %>% group_by(Duration) %>% emmeans_test(Time ~ Area, p.adjust.method = \"bonferroni\")"
   ]
  },
  {
   "cell_type": "markdown",
   "id": "72ee5d3c",
   "metadata": {},
   "source": [
    "قبلا هم در بررسی ها گفته بودیم که انتظار معنا داری در اریای بی با دیوریشن 100 و اریای ای با دیوریشن 50را در مقایسه با ناحیه ی نوترال داریم. که با این تست نیز به این نتیجه رسیدیم. اساس این آزمون یک آزمون تی است."
   ]
  },
  {
   "cell_type": "markdown",
   "id": "4462f820",
   "metadata": {},
   "source": [
    "# سوال دهم"
   ]
  },
  {
   "cell_type": "code",
   "execution_count": 2,
   "id": "4c67db09",
   "metadata": {},
   "outputs": [],
   "source": [
    "library(moments)"
   ]
  },
  {
   "cell_type": "code",
   "execution_count": 15,
   "id": "bedf198e",
   "metadata": {
    "scrolled": true
   },
   "outputs": [
    {
     "data": {
      "text/html": [
       "-0.0953878287269369"
      ],
      "text/latex": [
       "-0.0953878287269369"
      ],
      "text/markdown": [
       "-0.0953878287269369"
      ],
      "text/plain": [
       "[1] -0.09538783"
      ]
     },
     "metadata": {},
     "output_type": "display_data"
    }
   ],
   "source": [
    "skewness(Data$Time)"
   ]
  },
  {
   "cell_type": "markdown",
   "id": "ebca322f",
   "metadata": {},
   "source": [
    "با تست اسکیونس می توان تقارن و عدم تقارن داده ها را بررسی کرد. اگر نمره برابرو یا نزدیک به صفر باشد یعنی توزیع داده ها تقریبا متقارن است. نمره ی منفی نشان دهنده ی این است که دم در طرف چپ کشیده تر است یعنی تمرکز داده ها بیشتر سمت راست است. نمره ی ما چون فاصله ی زیادی از صفر ندارد یعنی عدم تقارن کمی وجود دارد.(این کد تدریس نشده)"
   ]
  },
  {
   "cell_type": "code",
   "execution_count": 5,
   "id": "bda40acb",
   "metadata": {},
   "outputs": [
    {
     "data": {
      "text/html": [
       "2.80895954711315"
      ],
      "text/latex": [
       "2.80895954711315"
      ],
      "text/markdown": [
       "2.80895954711315"
      ],
      "text/plain": [
       "[1] 2.80896"
      ]
     },
     "metadata": {},
     "output_type": "display_data"
    }
   ],
   "source": [
    "kurtosis(Data$Time)"
   ]
  },
  {
   "cell_type": "markdown",
   "id": "34a41d36",
   "metadata": {},
   "source": [
    "مقدار کرتوزیس 3باشد یعنی توزیع متقارن است.نمره ی ما 2.80895954711315 است به 3 نزدیک است یعنی داده ها حدودا متقارن هستند. این مقدار مثبت است، که نشان هنده ی دم شکل توزیع با شیب و انحراف های بیشتر از یک توزیع نرمال است.(داده های ما مقداری کجی دارند).این تست برای سنجش کشیدگی(کجی) انجام میشود."
   ]
  }
 ],
 "metadata": {
  "kernelspec": {
   "display_name": "R",
   "language": "R",
   "name": "ir"
  },
  "language_info": {
   "codemirror_mode": "r",
   "file_extension": ".r",
   "mimetype": "text/x-r-source",
   "name": "R",
   "pygments_lexer": "r",
   "version": "4.3.2"
  }
 },
 "nbformat": 4,
 "nbformat_minor": 5
}
